{
  "nbformat": 4,
  "nbformat_minor": 0,
  "metadata": {
    "kernelspec": {
      "name": "python3",
      "display_name": "Python 3"
    },
    "language_info": {
      "name": "python"
    }
  },
  "cells": [
    {
      "cell_type": "code",
      "source": [
        "import gzip\n",
        "import xmltodict\n",
        "import json\n",
        "\n",
        "def xmlgz2json(fname, depth=2, **kwargs):\n",
        "    if not fname.endswith('.gz'):\n",
        "        return\n",
        "    global _n\n",
        "    _n = 0\n",
        "    def _callback(_,i):\n",
        "        global _n\n",
        "        if _n % 10000 == 0:\n",
        "            print(f'Parsing item: {_n}')\n",
        "        _n += 1\n",
        "        line = json.dumps(i)+'\\n'\n",
        "        fo.write(line.encode('ASCII'))\n",
        "        return True\n",
        "    fo = gzip.open(fname[:-3]+'.json.gz', 'a')\n",
        "    xmltodict.parse(gzip.GzipFile(fname), item_depth=depth, item_callback=_callback, **kwargs)"
      ],
      "metadata": {
        "id": "H58_C4N9EATv"
      },
      "execution_count": null,
      "outputs": []
    },
    {
      "cell_type": "code",
      "source": [
        "xmlgz2json('test.xml.gz')"
      ],
      "metadata": {
        "colab": {
          "base_uri": "https://localhost:8080/"
        },
        "id": "wAgVn-orzupw",
        "outputId": "461fe7e8-c60a-4bd4-b359-807e0326888b"
      },
      "execution_count": 6,
      "outputs": [
        {
          "output_type": "stream",
          "name": "stdout",
          "text": [
            "Parsing item: 0\n",
            "Parsing item: 9999\n",
            "Parsing item: 19998\n",
            "Parsing item: 29997\n",
            "Parsing item: 39996\n",
            "Parsing item: 49995\n",
            "Parsing item: 59994\n",
            "Parsing item: 69993\n",
            "Parsing item: 79992\n"
          ]
        }
      ]
    },
    {
      "cell_type": "code",
      "source": [
        "!gzip -dc test.xml.json.gz|head -n 3"
      ],
      "metadata": {
        "colab": {
          "base_uri": "https://localhost:8080/"
        },
        "id": "gIcLsibY1ye4",
        "outputId": "d477d008-f604-4322-e7dd-80504c3f7255"
      },
      "execution_count": 7,
      "outputs": [
        {
          "output_type": "stream",
          "name": "stdout",
          "text": [
            "{\"RecordStatus\": \"current\", \"Species\": \"Homo sapiens\", \"InterpretedRecord\": {\"SimpleAllele\": {\"@AlleleID\": \"15480\", \"@VariationID\": \"441\", \"GeneList\": {\"Gene\": {\"@Symbol\": \"BCAM\", \"@FullName\": \"basal cell adhesion molecule (Lutheran blood group)\", \"@GeneID\": \"4059\", \"@HGNC_ID\": \"HGNC:6722\", \"@Source\": \"submitted\", \"@RelationshipType\": \"asserted, but not computed\", \"Location\": {\"CytogeneticLocation\": \"19q13.32\", \"SequenceLocation\": [{\"@Assembly\": \"GRCh38\", \"@AssemblyAccessionVersion\": \"GCF_000001405.38\", \"@AssemblyStatus\": \"current\", \"@Chr\": \"19\", \"@Accession\": \"NC_000019.10\", \"@start\": \"44809059\", \"@stop\": \"44821421\", \"@display_start\": \"44809059\", \"@display_stop\": \"44821421\", \"@Strand\": \"+\"}, {\"@Assembly\": \"GRCh37\", \"@AssemblyAccessionVersion\": \"GCF_000001405.25\", \"@AssemblyStatus\": \"previous\", \"@Chr\": \"19\", \"@Accession\": \"NC_000019.9\", \"@start\": \"45312315\", \"@stop\": \"45324677\", \"@display_start\": \"45312315\", \"@display_stop\": \"45324677\", \"@Strand\": \"+\"}]}, \"OMIM\": \"612773\"}}, \"Name\": \"BCAM, EX3-4DEL\", \"VariantType\": \"Deletion\", \"Location\": {\"CytogeneticLocation\": \"19q13.2\"}, \"OtherNameList\": {\"Name\": \"EX3-4DEL\"}, \"XRefList\": {\"XRef\": {\"@Type\": \"Allelic variant\", \"@ID\": \"612773.0004\", \"@DB\": \"OMIM\"}}}, \"ReviewStatus\": \"no assertion criteria provided\", \"RCVList\": {\"RCVAccession\": {\"@Title\": \"BCAM, EX3-4DEL AND BLOOD GROUP--LUTHERAN NULL\", \"@DateLastEvaluated\": \"2007-03-01\", \"@ReviewStatus\": \"no assertion criteria provided\", \"@Interpretation\": \"Pathogenic\", \"@SubmissionCount\": \"1\", \"@Accession\": \"RCV000000470\", \"@Version\": \"4\", \"InterpretedConditionList\": {\"@TraitSetID\": \"125\", \"InterpretedCondition\": {\"@DB\": \"MedGen\", \"@ID\": \"C4017284\", \"#text\": \"BLOOD GROUP--LUTHERAN NULL\"}}}}, \"Interpretations\": {\"Interpretation\": {\"@DateLastEvaluated\": \"2007-03-01\", \"@NumberOfSubmissions\": \"1\", \"@NumberOfSubmitters\": \"1\", \"@Type\": \"Clinical significance\", \"Description\": \"Pathogenic\", \"Citation\": {\"@Type\": \"general\", \"ID\": {\"@Source\": \"PubMed\", \"#text\": \"17319831\"}}, \"ConditionList\": {\"TraitSet\": {\"@ID\": \"125\", \"@Type\": \"Disease\", \"Trait\": {\"@ID\": \"9638\", \"@Type\": \"BloodGroup\", \"Name\": {\"ElementValue\": {\"@Type\": \"Preferred\", \"#text\": \"BLOOD GROUP--LUTHERAN NULL\"}, \"XRef\": [{\"@Type\": \"Allelic variant\", \"@ID\": \"612773.0005\", \"@DB\": \"OMIM\"}, {\"@Type\": \"Allelic variant\", \"@ID\": \"612773.0006\", \"@DB\": \"OMIM\"}, {\"@Type\": \"Allelic variant\", \"@ID\": \"612773.0003\", \"@DB\": \"OMIM\"}, {\"@Type\": \"Allelic variant\", \"@ID\": \"612773.0004\", \"@DB\": \"OMIM\"}]}, \"XRef\": {\"@ID\": \"C4017284\", \"@DB\": \"MedGen\"}}}}}}, \"ClinicalAssertionList\": {\"ClinicalAssertion\": {\"@ID\": \"20619\", \"@DateCreated\": \"2011-01-25\", \"@DateLastUpdated\": \"2019-03-31\", \"@SubmissionDate\": \"2010-12-30\", \"ClinVarSubmissionID\": {\"@localKey\": \"612773.0004_BLOOD GROUP--LUTHERAN NULL\", \"@title\": \"BCAM, EX3-4DEL_BLOOD GROUP--LUTHERAN NULL\"}, \"ClinVarAccession\": {\"@Accession\": \"SCV000020619\", \"@Type\": \"SCV\", \"@Version\": \"3\", \"@SubmitterName\": \"OMIM\", \"@OrgID\": \"3\", \"@OrganizationCategory\": \"resource\"}, \"RecordStatus\": \"current\", \"ReviewStatus\": \"no assertion criteria provided\", \"Interpretation\": {\"@DateLastEvaluated\": \"2007-03-01\", \"Description\": \"Pathogenic\"}, \"Assertion\": \"variation to disease\", \"ObservedInList\": {\"ObservedIn\": {\"Sample\": {\"Origin\": \"germline\", \"Species\": \"human\", \"AffectedStatus\": \"not provided\"}, \"Method\": {\"MethodType\": \"literature only\"}, \"ObservedData\": {\"Attribute\": {\"@Type\": \"Description\", \"#text\": \"For discussion of the deletion of exons 3 and 4 in the BCAM gene that was found in compound heterozygous state in a patient with the Lutheran null blood group phenotype (247420) by Karamatic Crew et al. (2007), see 612773.0003.\"}, \"Citation\": {\"ID\": {\"@Source\": \"PubMed\", \"#text\": \"17319831\"}}, \"XRef\": {\"@DB\": \"OMIM\", \"@ID\": \"247420\", \"@Type\": \"MIM\"}}}}, \"SimpleAllele\": {\"GeneList\": {\"Gene\": {\"@Symbol\": \"BCAM\"}}, \"Name\": \"BCAM, EX3-4DEL\", \"VariantType\": \"Variation\", \"OtherNameList\": {\"Name\": {\"@Type\": \"NonHGVS\", \"#text\": \"EX3-4DEL\"}}, \"XRefList\": {\"XRef\": {\"@DB\": \"OMIM\", \"@ID\": \"612773.0004\", \"@Type\": \"Allelic variant\"}}}, \"TraitSet\": {\"@Type\": \"Disease\", \"Trait\": {\"@Type\": \"Disease\", \"Name\": {\"ElementValue\": {\"@Type\": \"Preferred\", \"#text\": \"BLOOD GROUP--LUTHERAN NULL\"}}}}}}, \"TraitMappingList\": {\"TraitMapping\": {\"@ClinicalAssertionID\": \"20619\", \"@TraitType\": \"Disease\", \"@MappingType\": \"Name\", \"@MappingValue\": \"BLOOD GROUP--LUTHERAN NULL\", \"@MappingRef\": \"Preferred\", \"MedGen\": {\"@CUI\": \"C4017284\", \"@Name\": \"BLOOD GROUP--LUTHERAN NULL\"}}}}}\n",
            "{\"RecordStatus\": \"current\", \"Species\": \"Homo sapiens\", \"InterpretedRecord\": {\"SimpleAllele\": {\"@AlleleID\": \"18915\", \"@VariationID\": \"3876\", \"GeneList\": {\"Gene\": {\"@Symbol\": \"HEXB\", \"@FullName\": \"hexosaminidase subunit beta\", \"@GeneID\": \"3074\", \"@HGNC_ID\": \"HGNC:4879\", \"@Source\": \"submitted\", \"@RelationshipType\": \"asserted, but not computed\", \"Location\": {\"CytogeneticLocation\": \"5q13.3\", \"SequenceLocation\": [{\"@Assembly\": \"GRCh38\", \"@AssemblyAccessionVersion\": \"GCF_000001405.38\", \"@AssemblyStatus\": \"current\", \"@Chr\": \"5\", \"@Accession\": \"NC_000005.10\", \"@start\": \"74640023\", \"@stop\": \"74721288\", \"@display_start\": \"74640023\", \"@display_stop\": \"74721288\", \"@Strand\": \"+\"}, {\"@Assembly\": \"GRCh37\", \"@AssemblyAccessionVersion\": \"GCF_000001405.25\", \"@AssemblyStatus\": \"previous\", \"@Chr\": \"5\", \"@Accession\": \"NC_000005.9\", \"@start\": \"73980968\", \"@stop\": \"74017112\", \"@display_start\": \"73980968\", \"@display_stop\": \"74017112\", \"@Strand\": \"+\"}]}, \"OMIM\": \"606873\"}}, \"Name\": \"HEXB, 18-BP INS\", \"VariantType\": \"Insertion\", \"Location\": {\"CytogeneticLocation\": \"5q13\"}, \"OtherNameList\": {\"Name\": \"18-BP INS\"}, \"XRefList\": {\"XRef\": {\"@Type\": \"Allelic variant\", \"@ID\": \"606873.0003\", \"@DB\": \"OMIM\"}}}, \"ReviewStatus\": \"no assertion criteria provided\", \"RCVList\": {\"RCVAccession\": {\"@Title\": \"HEXB, 18-BP INS AND Hexosaminidase B (paris)\", \"@DateLastEvaluated\": \"1990-10-15\", \"@ReviewStatus\": \"no assertion criteria provided\", \"@Interpretation\": \"Pathogenic\", \"@SubmissionCount\": \"1\", \"@Accession\": \"RCV000004080\", \"@Version\": \"2\", \"InterpretedConditionList\": {\"@TraitSetID\": \"1061\", \"InterpretedCondition\": {\"@DB\": \"MedGen\", \"@ID\": \"C4016989\", \"#text\": \"Hexosaminidase B (paris)\"}}}}, \"Interpretations\": {\"Interpretation\": {\"@DateLastEvaluated\": \"1990-10-15\", \"@NumberOfSubmissions\": \"1\", \"@NumberOfSubmitters\": \"1\", \"@Type\": \"Clinical significance\", \"Description\": \"Pathogenic\", \"Citation\": [{\"@Type\": \"general\", \"ID\": {\"@Source\": \"PubMed\", \"#text\": \"2170400\"}}, {\"@Type\": \"general\", \"ID\": {\"@Source\": \"PubMed\", \"#text\": \"868875\"}}], \"ConditionList\": {\"TraitSet\": {\"@ID\": \"1061\", \"@Type\": \"Disease\", \"Trait\": {\"@ID\": \"10010\", \"@Type\": \"Disease\", \"Name\": {\"ElementValue\": {\"@Type\": \"Preferred\", \"#text\": \"Hexosaminidase B (paris)\"}}, \"XRef\": {\"@ID\": \"C4016989\", \"@DB\": \"MedGen\"}}}}}}, \"ClinicalAssertionList\": {\"ClinicalAssertion\": {\"@ID\": \"24246\", \"@DateCreated\": \"2011-01-25\", \"@DateLastUpdated\": \"2019-03-31\", \"@SubmissionDate\": \"2010-12-30\", \"ClinVarSubmissionID\": {\"@localKey\": \"606873.0003_HEXOSAMINIDASE B (PARIS)\", \"@title\": \"HEXB, 18-BP INS_HEXOSAMINIDASE B (PARIS)\"}, \"ClinVarAccession\": {\"@Accession\": \"SCV000024246\", \"@Type\": \"SCV\", \"@Version\": \"1\", \"@SubmitterName\": \"OMIM\", \"@OrgID\": \"3\", \"@OrganizationCategory\": \"resource\"}, \"RecordStatus\": \"current\", \"ReviewStatus\": \"no assertion criteria provided\", \"Interpretation\": {\"@DateLastEvaluated\": \"1990-10-15\", \"Description\": \"Pathogenic\"}, \"Assertion\": \"variation to disease\", \"ObservedInList\": {\"ObservedIn\": {\"Sample\": {\"Origin\": \"germline\", \"Species\": \"human\", \"AffectedStatus\": \"not provided\"}, \"Method\": {\"MethodType\": \"literature only\"}, \"ObservedData\": {\"Attribute\": {\"@Type\": \"Description\", \"#text\": \"Dreyfus et al. (1977) characterized a hexosaminidase variant that may represent unstable beta subunits. Dlott et al. (1990) demonstrated that this so-called 'hexosaminidase Paris' had an abnormally elongated beta subunit due to duplication of a region straddling the junction of intron 13 and exon 14, which generated an alternate splice site and caused an in-frame insertion of 18 nucleotides into the mRNA. The normal splice site seemed to be used to some extent, accounting for the residual Hex-A isoenzyme activity.\"}, \"Citation\": [{\"ID\": {\"@Source\": \"PubMed\", \"#text\": \"868875\"}}, {\"ID\": {\"@Source\": \"PubMed\", \"#text\": \"2170400\"}}]}}}, \"SimpleAllele\": {\"GeneList\": {\"Gene\": {\"@Symbol\": \"HEXB\"}}, \"Name\": \"HEXB, 18-BP INS\", \"VariantType\": \"Variation\", \"OtherNameList\": {\"Name\": {\"@Type\": \"NonHGVS\", \"#text\": \"18-BP INS\"}}, \"XRefList\": {\"XRef\": {\"@DB\": \"OMIM\", \"@ID\": \"606873.0003\", \"@Type\": \"Allelic variant\"}}}, \"TraitSet\": {\"@Type\": \"Disease\", \"Trait\": {\"@Type\": \"Disease\", \"Name\": {\"ElementValue\": {\"@Type\": \"Preferred\", \"#text\": \"HEXOSAMINIDASE B (PARIS)\"}}}}}}, \"TraitMappingList\": {\"TraitMapping\": {\"@ClinicalAssertionID\": \"24246\", \"@TraitType\": \"Disease\", \"@MappingType\": \"Name\", \"@MappingValue\": \"HEXOSAMINIDASE B (PARIS)\", \"@MappingRef\": \"Preferred\", \"MedGen\": {\"@CUI\": \"C4016989\", \"@Name\": \"Hexosaminidase B (paris)\"}}}}}\n",
            "{\"RecordStatus\": \"current\", \"Species\": \"Homo sapiens\", \"InterpretedRecord\": {\"SimpleAllele\": {\"@AlleleID\": \"23667\", \"@VariationID\": \"8628\", \"GeneList\": {\"Gene\": {\"@Symbol\": \"AMHR2\", \"@FullName\": \"anti-Mullerian hormone receptor type 2\", \"@GeneID\": \"269\", \"@HGNC_ID\": \"HGNC:465\", \"@Source\": \"submitted\", \"@RelationshipType\": \"asserted, but not computed\", \"Location\": {\"CytogeneticLocation\": \"12q13.13\", \"SequenceLocation\": [{\"@Assembly\": \"GRCh38\", \"@AssemblyAccessionVersion\": \"GCF_000001405.38\", \"@AssemblyStatus\": \"current\", \"@Chr\": \"12\", \"@Accession\": \"NC_000012.12\", \"@start\": \"53423855\", \"@stop\": \"53431672\", \"@display_start\": \"53423855\", \"@display_stop\": \"53431672\", \"@Strand\": \"+\"}, {\"@Assembly\": \"GRCh37\", \"@AssemblyAccessionVersion\": \"GCF_000001405.25\", \"@AssemblyStatus\": \"previous\", \"@Chr\": \"12\", \"@Accession\": \"NC_000012.11\", \"@start\": \"53817638\", \"@stop\": \"53825317\", \"@display_start\": \"53817638\", \"@display_stop\": \"53825317\", \"@Strand\": \"+\"}]}, \"OMIM\": \"600956\"}}, \"Name\": \"AMHR2, 1-BP DEL, 1692A\", \"VariantType\": \"Deletion\", \"Location\": {\"CytogeneticLocation\": \"12q13\"}, \"OtherNameList\": {\"Name\": \"1-BP DEL, 1692A\"}, \"XRefList\": {\"XRef\": {\"@Type\": \"Allelic variant\", \"@ID\": \"600956.0003\", \"@DB\": \"OMIM\"}}}, \"ReviewStatus\": \"no assertion criteria provided\", \"RCVList\": {\"RCVAccession\": {\"@Title\": \"AMHR2, 1-BP DEL, 1692A AND Persistent mullerian duct syndrome, type II\", \"@DateLastEvaluated\": \"2009-08-15\", \"@ReviewStatus\": \"no assertion criteria provided\", \"@Interpretation\": \"Pathogenic\", \"@SubmissionCount\": \"1\", \"@Accession\": \"RCV000009160\", \"@Version\": \"2\", \"InterpretedConditionList\": {\"@TraitSetID\": \"2370\", \"InterpretedCondition\": {\"@DB\": \"MedGen\", \"@ID\": \"C3897940\", \"#text\": \"Persistent mullerian duct syndrome, type II\"}}}}, \"Interpretations\": {\"Interpretation\": {\"@DateLastEvaluated\": \"2009-08-15\", \"@NumberOfSubmissions\": \"1\", \"@NumberOfSubmitters\": \"1\", \"@Type\": \"Clinical significance\", \"Description\": \"Pathogenic\", \"Citation\": [{\"@Type\": \"general\", \"ID\": {\"@Source\": \"PubMed\", \"#text\": \"11549681\"}}, {\"@Type\": \"general\", \"ID\": {\"@Source\": \"PubMed\", \"#text\": \"19457927\"}}], \"ConditionList\": {\"TraitSet\": {\"@ID\": \"2370\", \"@Type\": \"Disease\", \"Trait\": {\"@ID\": \"10460\", \"@Type\": \"Disease\", \"Name\": {\"ElementValue\": {\"@Type\": \"Preferred\", \"#text\": \"Persistent mullerian duct syndrome, type II\"}}, \"XRef\": {\"@ID\": \"C3897940\", \"@DB\": \"MedGen\"}}}}}}, \"ClinicalAssertionList\": {\"ClinicalAssertion\": {\"@ID\": \"29377\", \"@DateCreated\": \"2011-01-25\", \"@DateLastUpdated\": \"2019-03-31\", \"@SubmissionDate\": \"2010-12-30\", \"ClinVarSubmissionID\": {\"@localKey\": \"600956.0003_PERSISTENT MULLERIAN DUCT SYNDROME, TYPE II\", \"@title\": \"AMHR2, 1-BP DEL, 1692A _PERSISTENT MULLERIAN DUCT SYNDROME, TYPE II\"}, \"ClinVarAccession\": {\"@Accession\": \"SCV000029377\", \"@Type\": \"SCV\", \"@Version\": \"1\", \"@SubmitterName\": \"OMIM\", \"@OrgID\": \"3\", \"@OrganizationCategory\": \"resource\"}, \"RecordStatus\": \"current\", \"ReviewStatus\": \"no assertion criteria provided\", \"Interpretation\": {\"@DateLastEvaluated\": \"2009-08-15\", \"Description\": \"Pathogenic\"}, \"Assertion\": \"variation to disease\", \"ObservedInList\": {\"ObservedIn\": {\"Sample\": {\"Origin\": \"germline\", \"Species\": \"human\", \"AffectedStatus\": \"not provided\"}, \"Method\": {\"MethodType\": \"literature only\"}, \"ObservedData\": [{\"Attribute\": {\"@Type\": \"Description\", \"#text\": \"In a family with 2 members with persistent mullerian duct syndrome (261550) and one normal sib, Messika-Zeitoun et al. (2001) detected 2 novel mutations of the AMHR2 gene. One, transmitted by the mother to her 3 sons, was a deletion of an adenosine at nucleotide position 1692 in exon 5, leading to a stop codon and causing receptor truncation after the transmembrane domain. The other, a missense mutation in the substrate-binding site of the kinase domain (600956.0004), was transmitted by the father to the 2 affected sons, indicating a recessive autosomal transmission as in other cases of persistent mullerian duct syndrome. Truncating mutations in receptors of the TGF-beta family exert dominant-negative activity, which was seen only when each of the mutant anti-mullerian hormone receptors was overexpressed in an anti-mullerian hormone-responsive cell line. The authors concluded that assessment of dominant activity in vitro, which usually involves overexpression of mutant genes, does not necessarily produce information applicable to clinical conditions, in which mutant and endogenous genes are expressed on a one-to-one basis.\"}, \"Citation\": {\"ID\": {\"@Source\": \"PubMed\", \"#text\": \"11549681\"}}, \"XRef\": {\"@DB\": \"OMIM\", \"@ID\": \"261550\", \"@Type\": \"MIM\"}}, {\"Attribute\": {\"@Type\": \"Description\", \"#text\": \"Belville et al. (2009) noted that the 1692delA mutation lacks the entire kinase domain and is therefore incapable of transducing an AMH signal.\"}, \"Citation\": {\"ID\": {\"@Source\": \"PubMed\", \"#text\": \"19457927\"}}}]}}, \"SimpleAllele\": {\"GeneList\": {\"Gene\": {\"@Symbol\": \"AMHR2\"}}, \"Name\": \"AMHR2, 1-BP DEL, 1692A\", \"VariantType\": \"Variation\", \"OtherNameList\": {\"Name\": {\"@Type\": \"NonHGVS\", \"#text\": \"1-BP DEL, 1692A\"}}, \"XRefList\": {\"XRef\": {\"@DB\": \"OMIM\", \"@ID\": \"600956.0003\", \"@Type\": \"Allelic variant\"}}}, \"TraitSet\": {\"@Type\": \"Disease\", \"Trait\": {\"@Type\": \"Disease\", \"Name\": {\"ElementValue\": {\"@Type\": \"Preferred\", \"#text\": \"PERSISTENT MULLERIAN DUCT SYNDROME, TYPE II\"}}}}}}, \"TraitMappingList\": {\"TraitMapping\": {\"@ClinicalAssertionID\": \"29377\", \"@TraitType\": \"Disease\", \"@MappingType\": \"Name\", \"@MappingValue\": \"PERSISTENT MULLERIAN DUCT SYNDROME, TYPE II\", \"@MappingRef\": \"Preferred\", \"MedGen\": {\"@CUI\": \"C3897940\", \"@Name\": \"Persistent mullerian duct syndrome, type II\"}}}}}\n"
          ]
        }
      ]
    }
  ]
}
