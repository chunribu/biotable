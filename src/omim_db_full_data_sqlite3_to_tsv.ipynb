{
  "cells": [
    {
      "cell_type": "markdown",
      "metadata": {
        "id": "view-in-github",
        "colab_type": "text"
      },
      "source": [
        "<a href=\"https://colab.research.google.com/github/chunribu/biotable/blob/main/src/omim_db_full_data_sqlite3_to_tsv.ipynb\" target=\"_parent\"><img src=\"https://colab.research.google.com/assets/colab-badge.svg\" alt=\"Open In Colab\"/></a>"
      ]
    },
    {
      "cell_type": "markdown",
      "source": [
        "## Install `omim` providing OMIM data (maybe need update manually)"
      ],
      "metadata": {
        "id": "DYq5a7-VzUSn"
      },
      "id": "DYq5a7-VzUSn"
    },
    {
      "cell_type": "code",
      "source": [
        "!pip install --quiet omim\n",
        "!omim -h"
      ],
      "metadata": {
        "colab": {
          "base_uri": "https://localhost:8080/"
        },
        "id": "rWpgOROgxOrJ",
        "outputId": "d851c4ed-7a1e-4afb-a70e-f69651bdc834"
      },
      "id": "rWpgOROgxOrJ",
      "execution_count": 1,
      "outputs": [
        {
          "output_type": "stream",
          "name": "stdout",
          "text": [
            "\u001b[33m  WARNING: Retrying (Retry(total=4, connect=None, read=None, redirect=None, status=None)) after connection broken by 'ReadTimeoutError(\"HTTPSConnectionPool(host='files.pythonhosted.org', port=443): Read timed out. (read timeout=15)\")': /packages/58/a7/5a3bc3ed8953960fe8690a8a64c5aa515b57f72b7b53d368513174c95bde/omim-1.0.2-py3-none-any.whl\u001b[0m\n",
            "\u001b[K     |████████████████████████████████| 3.3 MB 4.1 MB/s \n",
            "\u001b[K     |████████████████████████████████| 46 kB 2.8 MB/s \n",
            "\u001b[K     |████████████████████████████████| 86 kB 4.5 MB/s \n",
            "\u001b[?25hUsage: omim [OPTIONS] COMMAND [ARGS]...\n",
            "\n",
            "  \u001b[32m\u001b[1mOMIM - Online Mendelian Inheritance\n",
            "  in Man\u001b[0m\n",
            "\n",
            "Options:\n",
            "  -d, --dbfile TEXT  the path of database file\n",
            "                     [default: /usr/local/lib/pyth\n",
            "                     on3.7/dist-packages/omim/data\n",
            "                     /omim.sqlite3]\n",
            "\n",
            "  -u, --url TEXT     the url of omim  [default:\n",
            "                     https://mirror.omim.org]\n",
            "\n",
            "  --version          Show the version and exit.\n",
            "  -?, -h, --help     Show this message and exit.\n",
            "\n",
            "Commands:\n",
            "  faq     \u001b[32mexplains of some faq\u001b[0m\n",
            "  query   \u001b[32mquery something from database\u001b[0m\n",
            "  stats   \u001b[32mstatistics of the database\u001b[0m\n",
            "  update  \u001b[32mupdate the database\u001b[0m\n"
          ]
        }
      ]
    },
    {
      "cell_type": "markdown",
      "source": [
        "## Load OMIM DB data provided by omim package"
      ],
      "metadata": {
        "id": "Mpde3p72yogG"
      },
      "id": "Mpde3p72yogG"
    },
    {
      "cell_type": "code",
      "execution_count": 2,
      "id": "563fcea9-d5f0-463d-a373-b4f3d344135c",
      "metadata": {
        "id": "563fcea9-d5f0-463d-a373-b4f3d344135c"
      },
      "outputs": [],
      "source": [
        "import pandas as pd\n",
        "import sqlite3\n",
        "import json"
      ]
    },
    {
      "cell_type": "code",
      "execution_count": 3,
      "id": "a58ae998-4edc-4bc4-9f66-790484c997a3",
      "metadata": {
        "id": "a58ae998-4edc-4bc4-9f66-790484c997a3"
      },
      "outputs": [],
      "source": [
        "# use the path to database file printed in help\n",
        "con = sqlite3.connect(\"/usr/local/lib/python3.7/dist-packages/omim/data/omim.sqlite3\")\n",
        "omim = pd.read_sql('select * from omim', con)\n",
        "omim.to_csv('omim_package_db.tsv.gz',  sep='\\t')\n",
        "con.close()"
      ]
    },
    {
      "cell_type": "code",
      "execution_count": 4,
      "id": "ccac594a-6d64-45ac-9720-7415b94eff84",
      "metadata": {
        "tags": [],
        "colab": {
          "base_uri": "https://localhost:8080/",
          "height": 971
        },
        "id": "ccac594a-6d64-45ac-9720-7415b94eff84",
        "outputId": "1da4da99-e452-4e09-8672-6685e57d0682"
      },
      "outputs": [
        {
          "output_type": "execute_result",
          "data": {
            "text/html": [
              "\n",
              "  <div id=\"df-14e2f6f0-f750-4e8f-abb6-dbdba65f0fed\">\n",
              "    <div class=\"colab-df-container\">\n",
              "      <div>\n",
              "<style scoped>\n",
              "    .dataframe tbody tr th:only-of-type {\n",
              "        vertical-align: middle;\n",
              "    }\n",
              "\n",
              "    .dataframe tbody tr th {\n",
              "        vertical-align: top;\n",
              "    }\n",
              "\n",
              "    .dataframe thead th {\n",
              "        text-align: right;\n",
              "    }\n",
              "</style>\n",
              "<table border=\"1\" class=\"dataframe\">\n",
              "  <thead>\n",
              "    <tr style=\"text-align: right;\">\n",
              "      <th></th>\n",
              "      <th>mim_number</th>\n",
              "      <th>prefix</th>\n",
              "      <th>title</th>\n",
              "      <th>references</th>\n",
              "      <th>geneMap</th>\n",
              "      <th>phenotypeMap</th>\n",
              "      <th>mim_type</th>\n",
              "      <th>entrez_gene_id</th>\n",
              "      <th>ensembl_gene_id</th>\n",
              "      <th>hgnc_gene_symbol</th>\n",
              "      <th>generated</th>\n",
              "    </tr>\n",
              "  </thead>\n",
              "  <tbody>\n",
              "    <tr>\n",
              "      <th>0</th>\n",
              "      <td>100640</td>\n",
              "      <td>*</td>\n",
              "      <td>ALDEHYDE DEHYDROGENASE 1 FAMILY, MEMBER A1; AL...</td>\n",
              "      <td>3943866, 6723659, 2591967, 2987944, 3013004, 2...</td>\n",
              "      <td>None</td>\n",
              "      <td>None</td>\n",
              "      <td>gene</td>\n",
              "      <td>216</td>\n",
              "      <td>ENSG00000165092</td>\n",
              "      <td>ALDH1A1</td>\n",
              "      <td>2021-04-14 00:00:00.000000</td>\n",
              "    </tr>\n",
              "    <tr>\n",
              "      <th>1</th>\n",
              "      <td>100650</td>\n",
              "      <td>+</td>\n",
              "      <td>ALDEHYDE DEHYDROGENASE 2 FAMILY; ALDH2</td>\n",
              "      <td>7013538, 1244489, 3017845, 15863807, 10441588,...</td>\n",
              "      <td>[{\"Location\": \"12q24.12\", \"Phenotype\": \"{Esoph...</td>\n",
              "      <td>None</td>\n",
              "      <td>gene/phenotype</td>\n",
              "      <td>217</td>\n",
              "      <td>ENSG00000111275</td>\n",
              "      <td>ALDH2</td>\n",
              "      <td>2021-04-14 00:00:00.000000</td>\n",
              "    </tr>\n",
              "    <tr>\n",
              "      <th>2</th>\n",
              "      <td>100660</td>\n",
              "      <td>*</td>\n",
              "      <td>ALDEHYDE DEHYDROGENASE, FAMILY 3, SUBFAMILY A,...</td>\n",
              "      <td>7774944, 1737758, 9391071, 9027499, 4073832, 7...</td>\n",
              "      <td>None</td>\n",
              "      <td>None</td>\n",
              "      <td>gene</td>\n",
              "      <td>218</td>\n",
              "      <td>ENSG00000108602</td>\n",
              "      <td>ALDH3A1</td>\n",
              "      <td>2021-04-14 00:00:00.000000</td>\n",
              "    </tr>\n",
              "    <tr>\n",
              "      <th>3</th>\n",
              "      <td>100670</td>\n",
              "      <td>*</td>\n",
              "      <td>ALDEHYDE DEHYDROGENASE 1 FAMILY, MEMBER B1; AL...</td>\n",
              "      <td>6985464, 7774944, 2061311</td>\n",
              "      <td>None</td>\n",
              "      <td>None</td>\n",
              "      <td>gene</td>\n",
              "      <td>219</td>\n",
              "      <td>ENSG00000137124</td>\n",
              "      <td>ALDH1B1</td>\n",
              "      <td>2021-04-14 00:00:00.000000</td>\n",
              "    </tr>\n",
              "    <tr>\n",
              "      <th>4</th>\n",
              "      <td>100678</td>\n",
              "      <td>*</td>\n",
              "      <td>ACETYL-CoA ACETYLTRANSFERASE 2; ACAT2</td>\n",
              "      <td>7904580, 20597, 1850510, 8812443, 2475872, 791...</td>\n",
              "      <td>[{\"Location\": \"6q25.3\", \"Phenotype\": \"?ACAT2 d...</td>\n",
              "      <td>None</td>\n",
              "      <td>gene</td>\n",
              "      <td>39</td>\n",
              "      <td>ENSG00000120437</td>\n",
              "      <td>ACAT2</td>\n",
              "      <td>2021-04-14 00:00:00.000000</td>\n",
              "    </tr>\n",
              "    <tr>\n",
              "      <th>...</th>\n",
              "      <td>...</td>\n",
              "      <td>...</td>\n",
              "      <td>...</td>\n",
              "      <td>...</td>\n",
              "      <td>...</td>\n",
              "      <td>...</td>\n",
              "      <td>...</td>\n",
              "      <td>...</td>\n",
              "      <td>...</td>\n",
              "      <td>...</td>\n",
              "      <td>...</td>\n",
              "    </tr>\n",
              "    <tr>\n",
              "      <th>27137</th>\n",
              "      <td>619278</td>\n",
              "      <td>#</td>\n",
              "      <td>MICROCEPHALY, EPILEPSY, AND DIABETES SYNDROME ...</td>\n",
              "      <td>33164986</td>\n",
              "      <td>None</td>\n",
              "      <td>[{\"Location\": \"5q31.3\", \"Phenotype\": \"Microcep...</td>\n",
              "      <td>phenotype</td>\n",
              "      <td></td>\n",
              "      <td></td>\n",
              "      <td></td>\n",
              "      <td>2021-04-19 00:00:00.000000</td>\n",
              "    </tr>\n",
              "    <tr>\n",
              "      <th>27138</th>\n",
              "      <td>619280</td>\n",
              "      <td>*</td>\n",
              "      <td>COILED-COIL DOMAIN-CONTAINING PROTEIN 59; CCDC59</td>\n",
              "      <td>16630564</td>\n",
              "      <td>None</td>\n",
              "      <td>None</td>\n",
              "      <td>gene</td>\n",
              "      <td>29080</td>\n",
              "      <td>ENSG00000133773</td>\n",
              "      <td>CCDC59</td>\n",
              "      <td>2021-04-19 00:00:00.000000</td>\n",
              "    </tr>\n",
              "    <tr>\n",
              "      <th>27139</th>\n",
              "      <td>619268</td>\n",
              "      <td>#</td>\n",
              "      <td>ALZAHRANI-KUWAHARA SYNDROME; ALKUS</td>\n",
              "      <td>33242396</td>\n",
              "      <td>None</td>\n",
              "      <td>[{\"Location\": \"17q22\", \"Phenotype\": \"Alzahrani...</td>\n",
              "      <td>phenotype</td>\n",
              "      <td></td>\n",
              "      <td></td>\n",
              "      <td></td>\n",
              "      <td>2021-04-20 00:00:00.000000</td>\n",
              "    </tr>\n",
              "    <tr>\n",
              "      <th>27140</th>\n",
              "      <td>619279</td>\n",
              "      <td>#</td>\n",
              "      <td>PARKINSONISM WITH POLYNEUROPATHY; PKNPY</td>\n",
              "      <td>33141179</td>\n",
              "      <td>None</td>\n",
              "      <td>[{\"Location\": \"3p21.31\", \"Phenotype\": \"Parkins...</td>\n",
              "      <td>phenotype</td>\n",
              "      <td></td>\n",
              "      <td></td>\n",
              "      <td></td>\n",
              "      <td>2021-04-20 00:00:00.000000</td>\n",
              "    </tr>\n",
              "    <tr>\n",
              "      <th>27141</th>\n",
              "      <td>619285</td>\n",
              "      <td>*</td>\n",
              "      <td>TRANSMEMBRANE PROTEIN 218; TMEM218</td>\n",
              "      <td>26982032, 25161209</td>\n",
              "      <td>None</td>\n",
              "      <td>None</td>\n",
              "      <td>gene</td>\n",
              "      <td>None</td>\n",
              "      <td>None</td>\n",
              "      <td>None</td>\n",
              "      <td>2021-04-20 00:00:00.000000</td>\n",
              "    </tr>\n",
              "  </tbody>\n",
              "</table>\n",
              "<p>27142 rows × 11 columns</p>\n",
              "</div>\n",
              "      <button class=\"colab-df-convert\" onclick=\"convertToInteractive('df-14e2f6f0-f750-4e8f-abb6-dbdba65f0fed')\"\n",
              "              title=\"Convert this dataframe to an interactive table.\"\n",
              "              style=\"display:none;\">\n",
              "        \n",
              "  <svg xmlns=\"http://www.w3.org/2000/svg\" height=\"24px\"viewBox=\"0 0 24 24\"\n",
              "       width=\"24px\">\n",
              "    <path d=\"M0 0h24v24H0V0z\" fill=\"none\"/>\n",
              "    <path d=\"M18.56 5.44l.94 2.06.94-2.06 2.06-.94-2.06-.94-.94-2.06-.94 2.06-2.06.94zm-11 1L8.5 8.5l.94-2.06 2.06-.94-2.06-.94L8.5 2.5l-.94 2.06-2.06.94zm10 10l.94 2.06.94-2.06 2.06-.94-2.06-.94-.94-2.06-.94 2.06-2.06.94z\"/><path d=\"M17.41 7.96l-1.37-1.37c-.4-.4-.92-.59-1.43-.59-.52 0-1.04.2-1.43.59L10.3 9.45l-7.72 7.72c-.78.78-.78 2.05 0 2.83L4 21.41c.39.39.9.59 1.41.59.51 0 1.02-.2 1.41-.59l7.78-7.78 2.81-2.81c.8-.78.8-2.07 0-2.86zM5.41 20L4 18.59l7.72-7.72 1.47 1.35L5.41 20z\"/>\n",
              "  </svg>\n",
              "      </button>\n",
              "      \n",
              "  <style>\n",
              "    .colab-df-container {\n",
              "      display:flex;\n",
              "      flex-wrap:wrap;\n",
              "      gap: 12px;\n",
              "    }\n",
              "\n",
              "    .colab-df-convert {\n",
              "      background-color: #E8F0FE;\n",
              "      border: none;\n",
              "      border-radius: 50%;\n",
              "      cursor: pointer;\n",
              "      display: none;\n",
              "      fill: #1967D2;\n",
              "      height: 32px;\n",
              "      padding: 0 0 0 0;\n",
              "      width: 32px;\n",
              "    }\n",
              "\n",
              "    .colab-df-convert:hover {\n",
              "      background-color: #E2EBFA;\n",
              "      box-shadow: 0px 1px 2px rgba(60, 64, 67, 0.3), 0px 1px 3px 1px rgba(60, 64, 67, 0.15);\n",
              "      fill: #174EA6;\n",
              "    }\n",
              "\n",
              "    [theme=dark] .colab-df-convert {\n",
              "      background-color: #3B4455;\n",
              "      fill: #D2E3FC;\n",
              "    }\n",
              "\n",
              "    [theme=dark] .colab-df-convert:hover {\n",
              "      background-color: #434B5C;\n",
              "      box-shadow: 0px 1px 3px 1px rgba(0, 0, 0, 0.15);\n",
              "      filter: drop-shadow(0px 1px 2px rgba(0, 0, 0, 0.3));\n",
              "      fill: #FFFFFF;\n",
              "    }\n",
              "  </style>\n",
              "\n",
              "      <script>\n",
              "        const buttonEl =\n",
              "          document.querySelector('#df-14e2f6f0-f750-4e8f-abb6-dbdba65f0fed button.colab-df-convert');\n",
              "        buttonEl.style.display =\n",
              "          google.colab.kernel.accessAllowed ? 'block' : 'none';\n",
              "\n",
              "        async function convertToInteractive(key) {\n",
              "          const element = document.querySelector('#df-14e2f6f0-f750-4e8f-abb6-dbdba65f0fed');\n",
              "          const dataTable =\n",
              "            await google.colab.kernel.invokeFunction('convertToInteractive',\n",
              "                                                     [key], {});\n",
              "          if (!dataTable) return;\n",
              "\n",
              "          const docLinkHtml = 'Like what you see? Visit the ' +\n",
              "            '<a target=\"_blank\" href=https://colab.research.google.com/notebooks/data_table.ipynb>data table notebook</a>'\n",
              "            + ' to learn more about interactive tables.';\n",
              "          element.innerHTML = '';\n",
              "          dataTable['output_type'] = 'display_data';\n",
              "          await google.colab.output.renderOutput(dataTable, element);\n",
              "          const docLink = document.createElement('div');\n",
              "          docLink.innerHTML = docLinkHtml;\n",
              "          element.appendChild(docLink);\n",
              "        }\n",
              "      </script>\n",
              "    </div>\n",
              "  </div>\n",
              "  "
            ],
            "text/plain": [
              "      mim_number prefix  ... hgnc_gene_symbol                   generated\n",
              "0         100640      *  ...          ALDH1A1  2021-04-14 00:00:00.000000\n",
              "1         100650      +  ...            ALDH2  2021-04-14 00:00:00.000000\n",
              "2         100660      *  ...          ALDH3A1  2021-04-14 00:00:00.000000\n",
              "3         100670      *  ...          ALDH1B1  2021-04-14 00:00:00.000000\n",
              "4         100678      *  ...            ACAT2  2021-04-14 00:00:00.000000\n",
              "...          ...    ...  ...              ...                         ...\n",
              "27137     619278      #  ...                   2021-04-19 00:00:00.000000\n",
              "27138     619280      *  ...           CCDC59  2021-04-19 00:00:00.000000\n",
              "27139     619268      #  ...                   2021-04-20 00:00:00.000000\n",
              "27140     619279      #  ...                   2021-04-20 00:00:00.000000\n",
              "27141     619285      *  ...             None  2021-04-20 00:00:00.000000\n",
              "\n",
              "[27142 rows x 11 columns]"
            ]
          },
          "metadata": {},
          "execution_count": 4
        }
      ],
      "source": [
        "omim"
      ]
    },
    {
      "cell_type": "markdown",
      "source": [
        "## Merge geneMap and phenotypeMap informations together"
      ],
      "metadata": {
        "id": "Iq4lwsJHzOy6"
      },
      "id": "Iq4lwsJHzOy6"
    },
    {
      "cell_type": "code",
      "execution_count": 5,
      "id": "795456f9-d2c7-46d3-9bb9-8676024e2c6f",
      "metadata": {
        "colab": {
          "base_uri": "https://localhost:8080/"
        },
        "id": "795456f9-d2c7-46d3-9bb9-8676024e2c6f",
        "outputId": "8d56096f-18f7-4005-c5bb-a9f21509aa24"
      },
      "outputs": [
        {
          "output_type": "stream",
          "name": "stdout",
          "text": [
            "5650\n"
          ]
        },
        {
          "output_type": "execute_result",
          "data": {
            "text/plain": [
              "11486"
            ]
          },
          "metadata": {},
          "execution_count": 5
        }
      ],
      "source": [
        "_map = omim.geneMap.copy()\n",
        "print(_map.isna().value_counts()[False])\n",
        "_map.update(omim.phenotypeMap)\n",
        "_map.isna().value_counts()[False]"
      ]
    },
    {
      "cell_type": "markdown",
      "source": [
        "## Parse `_map` in `json` module"
      ],
      "metadata": {
        "id": "uOXeOtIC0yBK"
      },
      "id": "uOXeOtIC0yBK"
    },
    {
      "cell_type": "code",
      "execution_count": 6,
      "id": "ade356e4-1b3f-4125-88c6-06087f435db7",
      "metadata": {
        "id": "ade356e4-1b3f-4125-88c6-06087f435db7"
      },
      "outputs": [],
      "source": [
        "_map_list = _map.apply(lambda x: json.loads(x) if x!=None else [{}])"
      ]
    },
    {
      "cell_type": "markdown",
      "source": [
        "## Make duplicate rows according to the length of each `_map_list`"
      ],
      "metadata": {
        "id": "ZIRQ2BUh1Nzs"
      },
      "id": "ZIRQ2BUh1Nzs"
    },
    {
      "cell_type": "code",
      "execution_count": 7,
      "id": "1051f3a6-b474-4226-87c7-dde8e0c66433",
      "metadata": {
        "id": "1051f3a6-b474-4226-87c7-dde8e0c66433"
      },
      "outputs": [],
      "source": [
        "lens = _map_list.str.len()\n",
        "idx = omim.index.repeat(lens)"
      ]
    },
    {
      "cell_type": "code",
      "execution_count": 8,
      "id": "19e137d5-564c-47dc-a8c7-9dbd3d90e146",
      "metadata": {
        "colab": {
          "base_uri": "https://localhost:8080/"
        },
        "id": "19e137d5-564c-47dc-a8c7-9dbd3d90e146",
        "outputId": "f994a1ca-0cf4-46fa-f464-a1ae281d80d5"
      },
      "outputs": [
        {
          "output_type": "execute_result",
          "data": {
            "text/plain": [
              "30500"
            ]
          },
          "metadata": {},
          "execution_count": 8
        }
      ],
      "source": [
        "lens.sum()"
      ]
    },
    {
      "cell_type": "code",
      "execution_count": 9,
      "id": "2b2190ee-e19e-41a3-bbdd-94ed9b617d23",
      "metadata": {
        "colab": {
          "base_uri": "https://localhost:8080/"
        },
        "id": "2b2190ee-e19e-41a3-bbdd-94ed9b617d23",
        "outputId": "cb575c42-a8d4-42cd-b705-78294ccc2e6e"
      },
      "outputs": [
        {
          "output_type": "execute_result",
          "data": {
            "text/plain": [
              "30500"
            ]
          },
          "metadata": {},
          "execution_count": 9
        }
      ],
      "source": [
        "len(_map_list.sum())"
      ]
    },
    {
      "cell_type": "code",
      "execution_count": 10,
      "id": "9fc868bb-d731-4f20-b4bb-22016855141e",
      "metadata": {
        "id": "9fc868bb-d731-4f20-b4bb-22016855141e"
      },
      "outputs": [],
      "source": [
        "df_map = pd.DataFrame(_map_list.sum())"
      ]
    },
    {
      "cell_type": "code",
      "execution_count": 11,
      "id": "c2f68bd3-fef4-4fcf-8d8c-38e99206ddda",
      "metadata": {
        "id": "c2f68bd3-fef4-4fcf-8d8c-38e99206ddda"
      },
      "outputs": [],
      "source": [
        "df_map = df_map.replace('', None)"
      ]
    },
    {
      "cell_type": "markdown",
      "source": [
        "## Merge the original and new-generated DataFrames"
      ],
      "metadata": {
        "id": "aBiWjmlf12P7"
      },
      "id": "aBiWjmlf12P7"
    },
    {
      "cell_type": "code",
      "execution_count": 12,
      "id": "4ff19d99-1cee-4abc-a5ca-8e1acb052801",
      "metadata": {
        "id": "4ff19d99-1cee-4abc-a5ca-8e1acb052801"
      },
      "outputs": [],
      "source": [
        "omim_merged = omim.loc[idx].reset_index().merge(df_map, left_index=True, right_index=True)"
      ]
    },
    {
      "cell_type": "code",
      "execution_count": 13,
      "id": "b7a88984-1435-4496-aa53-7e21d5ffa115",
      "metadata": {
        "colab": {
          "base_uri": "https://localhost:8080/",
          "height": 669
        },
        "id": "b7a88984-1435-4496-aa53-7e21d5ffa115",
        "outputId": "5d39ec21-71c1-4929-fb5c-60f9dc156943"
      },
      "outputs": [
        {
          "output_type": "execute_result",
          "data": {
            "text/html": [
              "\n",
              "  <div id=\"df-cae56570-0f56-4511-97cb-14ea9ed07f15\">\n",
              "    <div class=\"colab-df-container\">\n",
              "      <div>\n",
              "<style scoped>\n",
              "    .dataframe tbody tr th:only-of-type {\n",
              "        vertical-align: middle;\n",
              "    }\n",
              "\n",
              "    .dataframe tbody tr th {\n",
              "        vertical-align: top;\n",
              "    }\n",
              "\n",
              "    .dataframe thead th {\n",
              "        text-align: right;\n",
              "    }\n",
              "</style>\n",
              "<table border=\"1\" class=\"dataframe\">\n",
              "  <thead>\n",
              "    <tr style=\"text-align: right;\">\n",
              "      <th></th>\n",
              "      <th>index</th>\n",
              "      <th>mim_number</th>\n",
              "      <th>prefix</th>\n",
              "      <th>title</th>\n",
              "      <th>references</th>\n",
              "      <th>geneMap</th>\n",
              "      <th>phenotypeMap</th>\n",
              "      <th>mim_type</th>\n",
              "      <th>entrez_gene_id</th>\n",
              "      <th>ensembl_gene_id</th>\n",
              "      <th>hgnc_gene_symbol</th>\n",
              "      <th>generated</th>\n",
              "      <th>Location</th>\n",
              "      <th>Phenotype</th>\n",
              "      <th>Phenotype MIM number</th>\n",
              "      <th>Inheritance</th>\n",
              "      <th>Phenotype mapping key</th>\n",
              "      <th>Gene/Locus</th>\n",
              "      <th>Gene/Locus MIM number</th>\n",
              "    </tr>\n",
              "  </thead>\n",
              "  <tbody>\n",
              "    <tr>\n",
              "      <th>0</th>\n",
              "      <td>0</td>\n",
              "      <td>100640</td>\n",
              "      <td>*</td>\n",
              "      <td>ALDEHYDE DEHYDROGENASE 1 FAMILY, MEMBER A1; AL...</td>\n",
              "      <td>3943866, 6723659, 2591967, 2987944, 3013004, 2...</td>\n",
              "      <td>None</td>\n",
              "      <td>None</td>\n",
              "      <td>gene</td>\n",
              "      <td>216</td>\n",
              "      <td>ENSG00000165092</td>\n",
              "      <td>ALDH1A1</td>\n",
              "      <td>2021-04-14 00:00:00.000000</td>\n",
              "      <td>NaN</td>\n",
              "      <td>NaN</td>\n",
              "      <td>NaN</td>\n",
              "      <td>NaN</td>\n",
              "      <td>NaN</td>\n",
              "      <td>NaN</td>\n",
              "      <td>NaN</td>\n",
              "    </tr>\n",
              "    <tr>\n",
              "      <th>1</th>\n",
              "      <td>1</td>\n",
              "      <td>100650</td>\n",
              "      <td>+</td>\n",
              "      <td>ALDEHYDE DEHYDROGENASE 2 FAMILY; ALDH2</td>\n",
              "      <td>7013538, 1244489, 3017845, 15863807, 10441588,...</td>\n",
              "      <td>[{\"Location\": \"12q24.12\", \"Phenotype\": \"{Esoph...</td>\n",
              "      <td>None</td>\n",
              "      <td>gene/phenotype</td>\n",
              "      <td>217</td>\n",
              "      <td>ENSG00000111275</td>\n",
              "      <td>ALDH2</td>\n",
              "      <td>2021-04-14 00:00:00.000000</td>\n",
              "      <td>12q24.12</td>\n",
              "      <td>{Esophageal cancer, alcohol-related, susceptib...</td>\n",
              "      <td>NaN</td>\n",
              "      <td>NaN</td>\n",
              "      <td>3</td>\n",
              "      <td>NaN</td>\n",
              "      <td>NaN</td>\n",
              "    </tr>\n",
              "    <tr>\n",
              "      <th>2</th>\n",
              "      <td>1</td>\n",
              "      <td>100650</td>\n",
              "      <td>+</td>\n",
              "      <td>ALDEHYDE DEHYDROGENASE 2 FAMILY; ALDH2</td>\n",
              "      <td>7013538, 1244489, 3017845, 15863807, 10441588,...</td>\n",
              "      <td>[{\"Location\": \"12q24.12\", \"Phenotype\": \"{Esoph...</td>\n",
              "      <td>None</td>\n",
              "      <td>gene/phenotype</td>\n",
              "      <td>217</td>\n",
              "      <td>ENSG00000111275</td>\n",
              "      <td>ALDH2</td>\n",
              "      <td>2021-04-14 00:00:00.000000</td>\n",
              "      <td>12q24.12</td>\n",
              "      <td>{Hangover, susceptibility to}</td>\n",
              "      <td>610251</td>\n",
              "      <td>AD</td>\n",
              "      <td>3</td>\n",
              "      <td>NaN</td>\n",
              "      <td>NaN</td>\n",
              "    </tr>\n",
              "    <tr>\n",
              "      <th>3</th>\n",
              "      <td>1</td>\n",
              "      <td>100650</td>\n",
              "      <td>+</td>\n",
              "      <td>ALDEHYDE DEHYDROGENASE 2 FAMILY; ALDH2</td>\n",
              "      <td>7013538, 1244489, 3017845, 15863807, 10441588,...</td>\n",
              "      <td>[{\"Location\": \"12q24.12\", \"Phenotype\": \"{Esoph...</td>\n",
              "      <td>None</td>\n",
              "      <td>gene/phenotype</td>\n",
              "      <td>217</td>\n",
              "      <td>ENSG00000111275</td>\n",
              "      <td>ALDH2</td>\n",
              "      <td>2021-04-14 00:00:00.000000</td>\n",
              "      <td>12q24.12</td>\n",
              "      <td>{Sublingual nitroglycerin, susceptibility to p...</td>\n",
              "      <td>610251</td>\n",
              "      <td>AD</td>\n",
              "      <td>3</td>\n",
              "      <td>NaN</td>\n",
              "      <td>NaN</td>\n",
              "    </tr>\n",
              "    <tr>\n",
              "      <th>4</th>\n",
              "      <td>1</td>\n",
              "      <td>100650</td>\n",
              "      <td>+</td>\n",
              "      <td>ALDEHYDE DEHYDROGENASE 2 FAMILY; ALDH2</td>\n",
              "      <td>7013538, 1244489, 3017845, 15863807, 10441588,...</td>\n",
              "      <td>[{\"Location\": \"12q24.12\", \"Phenotype\": \"{Esoph...</td>\n",
              "      <td>None</td>\n",
              "      <td>gene/phenotype</td>\n",
              "      <td>217</td>\n",
              "      <td>ENSG00000111275</td>\n",
              "      <td>ALDH2</td>\n",
              "      <td>2021-04-14 00:00:00.000000</td>\n",
              "      <td>12q24.12</td>\n",
              "      <td>Alcohol sensitivity, acute</td>\n",
              "      <td>610251</td>\n",
              "      <td>AD</td>\n",
              "      <td>3</td>\n",
              "      <td>NaN</td>\n",
              "      <td>NaN</td>\n",
              "    </tr>\n",
              "  </tbody>\n",
              "</table>\n",
              "</div>\n",
              "      <button class=\"colab-df-convert\" onclick=\"convertToInteractive('df-cae56570-0f56-4511-97cb-14ea9ed07f15')\"\n",
              "              title=\"Convert this dataframe to an interactive table.\"\n",
              "              style=\"display:none;\">\n",
              "        \n",
              "  <svg xmlns=\"http://www.w3.org/2000/svg\" height=\"24px\"viewBox=\"0 0 24 24\"\n",
              "       width=\"24px\">\n",
              "    <path d=\"M0 0h24v24H0V0z\" fill=\"none\"/>\n",
              "    <path d=\"M18.56 5.44l.94 2.06.94-2.06 2.06-.94-2.06-.94-.94-2.06-.94 2.06-2.06.94zm-11 1L8.5 8.5l.94-2.06 2.06-.94-2.06-.94L8.5 2.5l-.94 2.06-2.06.94zm10 10l.94 2.06.94-2.06 2.06-.94-2.06-.94-.94-2.06-.94 2.06-2.06.94z\"/><path d=\"M17.41 7.96l-1.37-1.37c-.4-.4-.92-.59-1.43-.59-.52 0-1.04.2-1.43.59L10.3 9.45l-7.72 7.72c-.78.78-.78 2.05 0 2.83L4 21.41c.39.39.9.59 1.41.59.51 0 1.02-.2 1.41-.59l7.78-7.78 2.81-2.81c.8-.78.8-2.07 0-2.86zM5.41 20L4 18.59l7.72-7.72 1.47 1.35L5.41 20z\"/>\n",
              "  </svg>\n",
              "      </button>\n",
              "      \n",
              "  <style>\n",
              "    .colab-df-container {\n",
              "      display:flex;\n",
              "      flex-wrap:wrap;\n",
              "      gap: 12px;\n",
              "    }\n",
              "\n",
              "    .colab-df-convert {\n",
              "      background-color: #E8F0FE;\n",
              "      border: none;\n",
              "      border-radius: 50%;\n",
              "      cursor: pointer;\n",
              "      display: none;\n",
              "      fill: #1967D2;\n",
              "      height: 32px;\n",
              "      padding: 0 0 0 0;\n",
              "      width: 32px;\n",
              "    }\n",
              "\n",
              "    .colab-df-convert:hover {\n",
              "      background-color: #E2EBFA;\n",
              "      box-shadow: 0px 1px 2px rgba(60, 64, 67, 0.3), 0px 1px 3px 1px rgba(60, 64, 67, 0.15);\n",
              "      fill: #174EA6;\n",
              "    }\n",
              "\n",
              "    [theme=dark] .colab-df-convert {\n",
              "      background-color: #3B4455;\n",
              "      fill: #D2E3FC;\n",
              "    }\n",
              "\n",
              "    [theme=dark] .colab-df-convert:hover {\n",
              "      background-color: #434B5C;\n",
              "      box-shadow: 0px 1px 3px 1px rgba(0, 0, 0, 0.15);\n",
              "      filter: drop-shadow(0px 1px 2px rgba(0, 0, 0, 0.3));\n",
              "      fill: #FFFFFF;\n",
              "    }\n",
              "  </style>\n",
              "\n",
              "      <script>\n",
              "        const buttonEl =\n",
              "          document.querySelector('#df-cae56570-0f56-4511-97cb-14ea9ed07f15 button.colab-df-convert');\n",
              "        buttonEl.style.display =\n",
              "          google.colab.kernel.accessAllowed ? 'block' : 'none';\n",
              "\n",
              "        async function convertToInteractive(key) {\n",
              "          const element = document.querySelector('#df-cae56570-0f56-4511-97cb-14ea9ed07f15');\n",
              "          const dataTable =\n",
              "            await google.colab.kernel.invokeFunction('convertToInteractive',\n",
              "                                                     [key], {});\n",
              "          if (!dataTable) return;\n",
              "\n",
              "          const docLinkHtml = 'Like what you see? Visit the ' +\n",
              "            '<a target=\"_blank\" href=https://colab.research.google.com/notebooks/data_table.ipynb>data table notebook</a>'\n",
              "            + ' to learn more about interactive tables.';\n",
              "          element.innerHTML = '';\n",
              "          dataTable['output_type'] = 'display_data';\n",
              "          await google.colab.output.renderOutput(dataTable, element);\n",
              "          const docLink = document.createElement('div');\n",
              "          docLink.innerHTML = docLinkHtml;\n",
              "          element.appendChild(docLink);\n",
              "        }\n",
              "      </script>\n",
              "    </div>\n",
              "  </div>\n",
              "  "
            ],
            "text/plain": [
              "   index mim_number  ... Gene/Locus Gene/Locus MIM number\n",
              "0      0     100640  ...        NaN                   NaN\n",
              "1      1     100650  ...        NaN                   NaN\n",
              "2      1     100650  ...        NaN                   NaN\n",
              "3      1     100650  ...        NaN                   NaN\n",
              "4      1     100650  ...        NaN                   NaN\n",
              "\n",
              "[5 rows x 19 columns]"
            ]
          },
          "metadata": {},
          "execution_count": 13
        }
      ],
      "source": [
        "omim_merged.head()"
      ]
    },
    {
      "cell_type": "markdown",
      "source": [
        "## Select fields to save locally"
      ],
      "metadata": {
        "id": "N9CjhMf52InE"
      },
      "id": "N9CjhMf52InE"
    },
    {
      "cell_type": "code",
      "execution_count": 14,
      "id": "88a5193c-0da2-48b0-8288-8070ef4c08ea",
      "metadata": {
        "id": "88a5193c-0da2-48b0-8288-8070ef4c08ea"
      },
      "outputs": [],
      "source": [
        "omim_merged = omim_merged[['mim_number','mim_type','prefix','title','references','entrez_gene_id','ensembl_gene_id','hgnc_gene_symbol','Phenotype','Phenotype MIM number','Inheritance','Location','Gene/Locus','Gene/Locus MIM number','generated']]"
      ]
    },
    {
      "cell_type": "code",
      "execution_count": 15,
      "id": "caac5fb5-162c-449b-8154-f1c18a4d777f",
      "metadata": {
        "id": "caac5fb5-162c-449b-8154-f1c18a4d777f"
      },
      "outputs": [],
      "source": [
        "omim_merged.to_csv('OMIM.flat.tsv.gz', sep='\\t', index=False)"
      ]
    }
  ],
  "metadata": {
    "kernelspec": {
      "display_name": "Python 3",
      "language": "python",
      "name": "python3"
    },
    "language_info": {
      "codemirror_mode": {
        "name": "ipython",
        "version": 3
      },
      "file_extension": ".py",
      "mimetype": "text/x-python",
      "name": "python",
      "nbconvert_exporter": "python",
      "pygments_lexer": "ipython3",
      "version": "3.6.13"
    },
    "colab": {
      "name": "omimDB_from_sqlite3_to_tsv.ipynb",
      "provenance": [],
      "toc_visible": true,
      "include_colab_link": true
    }
  },
  "nbformat": 4,
  "nbformat_minor": 5
}